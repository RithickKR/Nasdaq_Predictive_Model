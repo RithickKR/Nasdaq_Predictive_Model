{
  "nbformat": 4,
  "nbformat_minor": 0,
  "metadata": {
    "colab": {
      "name": "ForexPredictiveModel.ipynb",
      "provenance": [],
      "authorship_tag": "ABX9TyP9Ic1PLaS7w+5rzVahEHWK",
      "include_colab_link": true
    },
    "kernelspec": {
      "name": "python3",
      "display_name": "Python 3"
    },
    "language_info": {
      "name": "python"
    }
  },
  "cells": [
    {
      "cell_type": "markdown",
      "metadata": {
        "id": "view-in-github",
        "colab_type": "text"
      },
      "source": [
        "<a href=\"https://colab.research.google.com/github/dharun-narayanan/Forex_Predictive_Model/blob/main/ForexPredictiveModel.ipynb\" target=\"_parent\"><img src=\"https://colab.research.google.com/assets/colab-badge.svg\" alt=\"Open In Colab\"/></a>"
      ]
    },
    {
      "cell_type": "markdown",
      "metadata": {
        "id": "psnBF6z_Zg0n"
      },
      "source": [
        "<font color='gree' size=10.0>**Abstract**</font> <br/>\n",
        "Forex (foreign exchange) is a special financial market that entails both high risks and high profit opportunities for traders. It is also a very simple market since traders can profit by just predicting the direction of the exchange rate between two currencies. However, incorrect predictions in Forex may cause much higher losses than in other typical financial markets. The direction prediction requirement makes the problem quite different from other typical time-series forecasting problems.\n",
        "\n",
        "The main decision in Forex involves forecasting the directional movement between two currencies. Traders can profit from transactions with correct directional prediction and lose with incorrect prediction. Therefore, identifying directional movement is the problem addressed in this study.\n",
        "\n",
        "We chose the Pound Sterling/US dollar <font color='red'>(GBP/USD)</font> pair for the analysis, since it is one among the largest traded Forex currency pair in the world."
      ]
    },
    {
      "cell_type": "code",
      "metadata": {
        "id": "NqJ_ctG8bbDm"
      },
      "source": [
        "import pandas as pd\n",
        "import numpy as np\n",
        "import matplotlib.pyplot as plt\n",
        "import seaborn as sns\n",
        "import math"
      ],
      "execution_count": 61,
      "outputs": []
    },
    {
      "cell_type": "code",
      "metadata": {
        "colab": {
          "base_uri": "https://localhost:8080/"
        },
        "id": "GKap3Lx5bbNk",
        "outputId": "7d084df5-7869-4642-b05d-1194a82cd6bb"
      },
      "source": [
        "# Get Dataset from drive\n",
        "#Connecting to the Google Drive\n",
        "\n",
        "from google.colab import drive\n",
        "drive.mount('/content/drive')"
      ],
      "execution_count": 2,
      "outputs": [
        {
          "output_type": "stream",
          "name": "stdout",
          "text": [
            "Mounted at /content/drive\n"
          ]
        }
      ]
    },
    {
      "cell_type": "code",
      "metadata": {
        "id": "X8FBc2NTHY_M"
      },
      "source": [
        "# Give Dataset path in Google drive\n",
        "# Loading the dataset from the drive\n",
        "\n",
        "df_1 = pd.read_csv('drive/My Drive/FODS_Project/GBPUSD1.csv')\n",
        "df_5 = pd.read_csv('drive/My Drive/FODS_Project/GBPUSD5.csv')\n",
        "df_15 = pd.read_csv('drive/My Drive/FODS_Project/GBPUSD15.csv')\n",
        "df_30 = pd.read_csv('drive/My Drive/FODS_Project/GBPUSD30.csv')\n",
        "df_60 = pd.read_csv('drive/My Drive/FODS_Project/GBPUSD60.csv')\n",
        "df_4h = pd.read_csv('drive/My Drive/FODS_Project/GBPUSD240.csv')\n",
        "df_1d = pd.read_csv('drive/My Drive/FODS_Project/GBPUSD1440.csv')"
      ],
      "execution_count": 52,
      "outputs": []
    },
    {
      "cell_type": "markdown",
      "metadata": {
        "id": "0J5qAeU-YEOM"
      },
      "source": [
        "<font color='#15d1e6' size=8.0>**Description / INFO**</font> <br/>\n",
        "<font color='white' size=6.0>**Pre-Processing**</font>"
      ]
    },
    {
      "cell_type": "code",
      "metadata": {
        "id": "lQ7k_lgqoRhu",
        "colab": {
          "base_uri": "https://localhost:8080/"
        },
        "outputId": "cb0356aa-6ddd-4ccc-cafc-5681e56f7474"
      },
      "source": [
        "print('One Minute Chart Shape : ',df_1.shape)\n",
        "print('Five Minute Chart Shape : ',df_5.shape)\n",
        "print('Fifteen Minute Chart Shape : ',df_15.shape)\n",
        "print('Thirty Minute Chart Shape : ',df_30.shape)\n",
        "print('One Hour Chart Shape : ',df_60.shape)\n",
        "print('Four Hour Chart Shape : ',df_4h.shape)\n",
        "print('One Day Chart Shape : ',df_1d.shape)"
      ],
      "execution_count": 26,
      "outputs": [
        {
          "output_type": "stream",
          "name": "stdout",
          "text": [
            "One Minute Chart Shape :  (14926, 7)\n",
            "Five Minute Chart Shape :  (2047, 7)\n",
            "Fifteen Minute Chart Shape :  (2047, 7)\n",
            "Thirty Minute Chart Shape :  (2542, 7)\n",
            "One Hour Chart Shape :  (2900, 7)\n",
            "Four Hour Chart Shape :  (12623, 7)\n",
            "One Day Chart Shape :  (1171, 7)\n"
          ]
        }
      ]
    },
    {
      "cell_type": "code",
      "metadata": {
        "id": "5LBuBbSuoRpt",
        "colab": {
          "base_uri": "https://localhost:8080/",
          "height": 206
        },
        "outputId": "3d75d435-4225-42a0-a980-38e814c66e46"
      },
      "source": [
        "df_1.head()"
      ],
      "execution_count": 27,
      "outputs": [
        {
          "output_type": "execute_result",
          "data": {
            "text/html": [
              "<div>\n",
              "<style scoped>\n",
              "    .dataframe tbody tr th:only-of-type {\n",
              "        vertical-align: middle;\n",
              "    }\n",
              "\n",
              "    .dataframe tbody tr th {\n",
              "        vertical-align: top;\n",
              "    }\n",
              "\n",
              "    .dataframe thead th {\n",
              "        text-align: right;\n",
              "    }\n",
              "</style>\n",
              "<table border=\"1\" class=\"dataframe\">\n",
              "  <thead>\n",
              "    <tr style=\"text-align: right;\">\n",
              "      <th></th>\n",
              "      <th>2021.08.25</th>\n",
              "      <th>20:28</th>\n",
              "      <th>1.37373</th>\n",
              "      <th>1.37375</th>\n",
              "      <th>1.37373.1</th>\n",
              "      <th>1.37373.2</th>\n",
              "      <th>29</th>\n",
              "    </tr>\n",
              "  </thead>\n",
              "  <tbody>\n",
              "    <tr>\n",
              "      <th>0</th>\n",
              "      <td>2021.08.25</td>\n",
              "      <td>20:29</td>\n",
              "      <td>1.37374</td>\n",
              "      <td>1.37394</td>\n",
              "      <td>1.37373</td>\n",
              "      <td>1.37393</td>\n",
              "      <td>122</td>\n",
              "    </tr>\n",
              "    <tr>\n",
              "      <th>1</th>\n",
              "      <td>2021.08.25</td>\n",
              "      <td>20:30</td>\n",
              "      <td>1.37394</td>\n",
              "      <td>1.37397</td>\n",
              "      <td>1.37390</td>\n",
              "      <td>1.37390</td>\n",
              "      <td>168</td>\n",
              "    </tr>\n",
              "    <tr>\n",
              "      <th>2</th>\n",
              "      <td>2021.08.25</td>\n",
              "      <td>20:31</td>\n",
              "      <td>1.37391</td>\n",
              "      <td>1.37393</td>\n",
              "      <td>1.37387</td>\n",
              "      <td>1.37390</td>\n",
              "      <td>157</td>\n",
              "    </tr>\n",
              "    <tr>\n",
              "      <th>3</th>\n",
              "      <td>2021.08.25</td>\n",
              "      <td>20:32</td>\n",
              "      <td>1.37389</td>\n",
              "      <td>1.37397</td>\n",
              "      <td>1.37387</td>\n",
              "      <td>1.37393</td>\n",
              "      <td>114</td>\n",
              "    </tr>\n",
              "    <tr>\n",
              "      <th>4</th>\n",
              "      <td>2021.08.25</td>\n",
              "      <td>20:33</td>\n",
              "      <td>1.37394</td>\n",
              "      <td>1.37397</td>\n",
              "      <td>1.37392</td>\n",
              "      <td>1.37395</td>\n",
              "      <td>70</td>\n",
              "    </tr>\n",
              "  </tbody>\n",
              "</table>\n",
              "</div>"
            ],
            "text/plain": [
              "   2021.08.25  20:28  1.37373  1.37375  1.37373.1  1.37373.2   29\n",
              "0  2021.08.25  20:29  1.37374  1.37394    1.37373    1.37393  122\n",
              "1  2021.08.25  20:30  1.37394  1.37397    1.37390    1.37390  168\n",
              "2  2021.08.25  20:31  1.37391  1.37393    1.37387    1.37390  157\n",
              "3  2021.08.25  20:32  1.37389  1.37397    1.37387    1.37393  114\n",
              "4  2021.08.25  20:33  1.37394  1.37397    1.37392    1.37395   70"
            ]
          },
          "metadata": {},
          "execution_count": 27
        }
      ]
    },
    {
      "cell_type": "code",
      "metadata": {
        "colab": {
          "base_uri": "https://localhost:8080/",
          "height": 206
        },
        "id": "G5nPtnxXZ2eK",
        "outputId": "25f9e8fb-7990-4e47-b8b8-dc5b709d7ef9"
      },
      "source": [
        "df_5.head()"
      ],
      "execution_count": 28,
      "outputs": [
        {
          "output_type": "execute_result",
          "data": {
            "text/html": [
              "<div>\n",
              "<style scoped>\n",
              "    .dataframe tbody tr th:only-of-type {\n",
              "        vertical-align: middle;\n",
              "    }\n",
              "\n",
              "    .dataframe tbody tr th {\n",
              "        vertical-align: top;\n",
              "    }\n",
              "\n",
              "    .dataframe thead th {\n",
              "        text-align: right;\n",
              "    }\n",
              "</style>\n",
              "<table border=\"1\" class=\"dataframe\">\n",
              "  <thead>\n",
              "    <tr style=\"text-align: right;\">\n",
              "      <th></th>\n",
              "      <th>2021.09.01</th>\n",
              "      <th>21:20</th>\n",
              "      <th>1.37787</th>\n",
              "      <th>1.37796</th>\n",
              "      <th>1.37780</th>\n",
              "      <th>1.37785</th>\n",
              "      <th>290</th>\n",
              "    </tr>\n",
              "  </thead>\n",
              "  <tbody>\n",
              "    <tr>\n",
              "      <th>0</th>\n",
              "      <td>2021.09.01</td>\n",
              "      <td>21:25</td>\n",
              "      <td>1.37785</td>\n",
              "      <td>1.37798</td>\n",
              "      <td>1.37785</td>\n",
              "      <td>1.37795</td>\n",
              "      <td>285</td>\n",
              "    </tr>\n",
              "    <tr>\n",
              "      <th>1</th>\n",
              "      <td>2021.09.01</td>\n",
              "      <td>21:30</td>\n",
              "      <td>1.37795</td>\n",
              "      <td>1.37796</td>\n",
              "      <td>1.37768</td>\n",
              "      <td>1.37783</td>\n",
              "      <td>408</td>\n",
              "    </tr>\n",
              "    <tr>\n",
              "      <th>2</th>\n",
              "      <td>2021.09.01</td>\n",
              "      <td>21:35</td>\n",
              "      <td>1.37784</td>\n",
              "      <td>1.37785</td>\n",
              "      <td>1.37757</td>\n",
              "      <td>1.37757</td>\n",
              "      <td>468</td>\n",
              "    </tr>\n",
              "    <tr>\n",
              "      <th>3</th>\n",
              "      <td>2021.09.01</td>\n",
              "      <td>21:40</td>\n",
              "      <td>1.37757</td>\n",
              "      <td>1.37770</td>\n",
              "      <td>1.37754</td>\n",
              "      <td>1.37768</td>\n",
              "      <td>269</td>\n",
              "    </tr>\n",
              "    <tr>\n",
              "      <th>4</th>\n",
              "      <td>2021.09.01</td>\n",
              "      <td>21:45</td>\n",
              "      <td>1.37766</td>\n",
              "      <td>1.37779</td>\n",
              "      <td>1.37766</td>\n",
              "      <td>1.37775</td>\n",
              "      <td>279</td>\n",
              "    </tr>\n",
              "  </tbody>\n",
              "</table>\n",
              "</div>"
            ],
            "text/plain": [
              "   2021.09.01  21:20  1.37787  1.37796  1.37780  1.37785  290\n",
              "0  2021.09.01  21:25  1.37785  1.37798  1.37785  1.37795  285\n",
              "1  2021.09.01  21:30  1.37795  1.37796  1.37768  1.37783  408\n",
              "2  2021.09.01  21:35  1.37784  1.37785  1.37757  1.37757  468\n",
              "3  2021.09.01  21:40  1.37757  1.37770  1.37754  1.37768  269\n",
              "4  2021.09.01  21:45  1.37766  1.37779  1.37766  1.37775  279"
            ]
          },
          "metadata": {},
          "execution_count": 28
        }
      ]
    },
    {
      "cell_type": "code",
      "metadata": {
        "colab": {
          "base_uri": "https://localhost:8080/",
          "height": 206
        },
        "id": "4_CH3X8fZ2kY",
        "outputId": "856cb6fd-3cc4-4e29-a1b3-89839139969e"
      },
      "source": [
        "df_15.head()"
      ],
      "execution_count": 29,
      "outputs": [
        {
          "output_type": "execute_result",
          "data": {
            "text/html": [
              "<div>\n",
              "<style scoped>\n",
              "    .dataframe tbody tr th:only-of-type {\n",
              "        vertical-align: middle;\n",
              "    }\n",
              "\n",
              "    .dataframe tbody tr th {\n",
              "        vertical-align: top;\n",
              "    }\n",
              "\n",
              "    .dataframe thead th {\n",
              "        text-align: right;\n",
              "    }\n",
              "</style>\n",
              "<table border=\"1\" class=\"dataframe\">\n",
              "  <thead>\n",
              "    <tr style=\"text-align: right;\">\n",
              "      <th></th>\n",
              "      <th>2021.08.12</th>\n",
              "      <th>16:00</th>\n",
              "      <th>1.38463</th>\n",
              "      <th>1.38468</th>\n",
              "      <th>1.38333</th>\n",
              "      <th>1.38343</th>\n",
              "      <th>2928</th>\n",
              "    </tr>\n",
              "  </thead>\n",
              "  <tbody>\n",
              "    <tr>\n",
              "      <th>0</th>\n",
              "      <td>2021.08.12</td>\n",
              "      <td>16:15</td>\n",
              "      <td>1.38343</td>\n",
              "      <td>1.38440</td>\n",
              "      <td>1.38341</td>\n",
              "      <td>1.38431</td>\n",
              "      <td>1911</td>\n",
              "    </tr>\n",
              "    <tr>\n",
              "      <th>1</th>\n",
              "      <td>2021.08.12</td>\n",
              "      <td>16:30</td>\n",
              "      <td>1.38433</td>\n",
              "      <td>1.38445</td>\n",
              "      <td>1.38362</td>\n",
              "      <td>1.38374</td>\n",
              "      <td>2792</td>\n",
              "    </tr>\n",
              "    <tr>\n",
              "      <th>2</th>\n",
              "      <td>2021.08.12</td>\n",
              "      <td>16:45</td>\n",
              "      <td>1.38374</td>\n",
              "      <td>1.38396</td>\n",
              "      <td>1.38314</td>\n",
              "      <td>1.38380</td>\n",
              "      <td>2090</td>\n",
              "    </tr>\n",
              "    <tr>\n",
              "      <th>3</th>\n",
              "      <td>2021.08.12</td>\n",
              "      <td>17:00</td>\n",
              "      <td>1.38380</td>\n",
              "      <td>1.38382</td>\n",
              "      <td>1.38336</td>\n",
              "      <td>1.38361</td>\n",
              "      <td>2213</td>\n",
              "    </tr>\n",
              "    <tr>\n",
              "      <th>4</th>\n",
              "      <td>2021.08.12</td>\n",
              "      <td>17:15</td>\n",
              "      <td>1.38361</td>\n",
              "      <td>1.38362</td>\n",
              "      <td>1.38295</td>\n",
              "      <td>1.38298</td>\n",
              "      <td>1303</td>\n",
              "    </tr>\n",
              "  </tbody>\n",
              "</table>\n",
              "</div>"
            ],
            "text/plain": [
              "   2021.08.12  16:00  1.38463  1.38468  1.38333  1.38343  2928\n",
              "0  2021.08.12  16:15  1.38343  1.38440  1.38341  1.38431  1911\n",
              "1  2021.08.12  16:30  1.38433  1.38445  1.38362  1.38374  2792\n",
              "2  2021.08.12  16:45  1.38374  1.38396  1.38314  1.38380  2090\n",
              "3  2021.08.12  17:00  1.38380  1.38382  1.38336  1.38361  2213\n",
              "4  2021.08.12  17:15  1.38361  1.38362  1.38295  1.38298  1303"
            ]
          },
          "metadata": {},
          "execution_count": 29
        }
      ]
    },
    {
      "cell_type": "code",
      "metadata": {
        "id": "uDnH9KZgfwWi"
      },
      "source": [
        "df_1.columns = ['Date','Time','Open','High','Low','Close','Volume']\n",
        "df_5.columns = ['Date','Time','Open','High','Low','Close','Volume']\n",
        "df_15.columns = ['Date','Time','Open','High','Low','Close','Volume']\n",
        "df_30.columns = ['Date','Time','Open','High','Low','Close','Volume']\n",
        "df_60.columns = ['Date','Time','Open','High','Low','Close','Volume']\n",
        "df_4h.columns = ['Date','Time','Open','High','Low','Close','Volume']\n",
        "df_1d.columns = ['Date','Time','Open','High','Low','Close','Volume']"
      ],
      "execution_count": 53,
      "outputs": []
    },
    {
      "cell_type": "code",
      "metadata": {
        "colab": {
          "base_uri": "https://localhost:8080/"
        },
        "id": "-hknU-mMfwjB",
        "outputId": "f911e06b-ab18-40a7-f3bc-5672e00a591c"
      },
      "source": [
        "print(df_1.head(3))\n",
        "print()\n",
        "print(df_15.head(3))\n",
        "print()\n",
        "print(df_4h.head(3))"
      ],
      "execution_count": 73,
      "outputs": [
        {
          "output_type": "stream",
          "name": "stdout",
          "text": [
            "         Date   Time     Open     High      Low    Close  Volume  pip\n",
            "0  2021.08.25  20:29  1.37374  1.37394  1.37373  1.37393     122   -2\n",
            "1  2021.08.25  20:30  1.37394  1.37397  1.37390  1.37390     168    0\n",
            "2  2021.08.25  20:31  1.37391  1.37393  1.37387  1.37390     157    0\n",
            "\n",
            "         Date   Time     Open     High      Low    Close  Volume  pip\n",
            "0  2021.08.12  16:15  1.38343  1.38440  1.38341  1.38431    1911   -9\n",
            "1  2021.08.12  16:30  1.38433  1.38445  1.38362  1.38374    2792    5\n",
            "2  2021.08.12  16:45  1.38374  1.38396  1.38314  1.38380    2090   -1\n",
            "\n",
            "         Date   Time    Open    High     Low   Close  Volume  pip\n",
            "0  2009.12.21  04:00  1.6159  1.6161  1.6117  1.6130    6251   28\n",
            "1  2009.12.21  08:00  1.6129  1.6156  1.6088  1.6125   11887    4\n",
            "2  2009.12.21  12:00  1.6124  1.6132  1.6075  1.6085   12436   39\n"
          ]
        }
      ]
    },
    {
      "cell_type": "code",
      "metadata": {
        "colab": {
          "base_uri": "https://localhost:8080/",
          "height": 300
        },
        "id": "CoyPqwtydLp2",
        "outputId": "c84c1af6-b417-43ac-db93-4c4fa48451b6"
      },
      "source": [
        "df_1.describe()"
      ],
      "execution_count": 38,
      "outputs": [
        {
          "output_type": "execute_result",
          "data": {
            "text/html": [
              "<div>\n",
              "<style scoped>\n",
              "    .dataframe tbody tr th:only-of-type {\n",
              "        vertical-align: middle;\n",
              "    }\n",
              "\n",
              "    .dataframe tbody tr th {\n",
              "        vertical-align: top;\n",
              "    }\n",
              "\n",
              "    .dataframe thead th {\n",
              "        text-align: right;\n",
              "    }\n",
              "</style>\n",
              "<table border=\"1\" class=\"dataframe\">\n",
              "  <thead>\n",
              "    <tr style=\"text-align: right;\">\n",
              "      <th></th>\n",
              "      <th>Open</th>\n",
              "      <th>High</th>\n",
              "      <th>Low</th>\n",
              "      <th>Close</th>\n",
              "      <th>Volume</th>\n",
              "    </tr>\n",
              "  </thead>\n",
              "  <tbody>\n",
              "    <tr>\n",
              "      <th>count</th>\n",
              "      <td>14926.000000</td>\n",
              "      <td>14926.00000</td>\n",
              "      <td>14926.000000</td>\n",
              "      <td>14926.000000</td>\n",
              "      <td>14926.000000</td>\n",
              "    </tr>\n",
              "    <tr>\n",
              "      <th>mean</th>\n",
              "      <td>1.379269</td>\n",
              "      <td>1.37934</td>\n",
              "      <td>1.379198</td>\n",
              "      <td>1.379269</td>\n",
              "      <td>103.360847</td>\n",
              "    </tr>\n",
              "    <tr>\n",
              "      <th>std</th>\n",
              "      <td>0.004889</td>\n",
              "      <td>0.00489</td>\n",
              "      <td>0.004889</td>\n",
              "      <td>0.004889</td>\n",
              "      <td>103.606178</td>\n",
              "    </tr>\n",
              "    <tr>\n",
              "      <th>min</th>\n",
              "      <td>1.368000</td>\n",
              "      <td>1.36806</td>\n",
              "      <td>1.367930</td>\n",
              "      <td>1.368010</td>\n",
              "      <td>1.000000</td>\n",
              "    </tr>\n",
              "    <tr>\n",
              "      <th>25%</th>\n",
              "      <td>1.375810</td>\n",
              "      <td>1.37588</td>\n",
              "      <td>1.375730</td>\n",
              "      <td>1.375810</td>\n",
              "      <td>35.000000</td>\n",
              "    </tr>\n",
              "    <tr>\n",
              "      <th>50%</th>\n",
              "      <td>1.378420</td>\n",
              "      <td>1.37850</td>\n",
              "      <td>1.378350</td>\n",
              "      <td>1.378420</td>\n",
              "      <td>75.000000</td>\n",
              "    </tr>\n",
              "    <tr>\n",
              "      <th>75%</th>\n",
              "      <td>1.383620</td>\n",
              "      <td>1.38367</td>\n",
              "      <td>1.383570</td>\n",
              "      <td>1.383620</td>\n",
              "      <td>139.000000</td>\n",
              "    </tr>\n",
              "    <tr>\n",
              "      <th>max</th>\n",
              "      <td>1.389070</td>\n",
              "      <td>1.38912</td>\n",
              "      <td>1.389060</td>\n",
              "      <td>1.389080</td>\n",
              "      <td>2960.000000</td>\n",
              "    </tr>\n",
              "  </tbody>\n",
              "</table>\n",
              "</div>"
            ],
            "text/plain": [
              "               Open         High           Low         Close        Volume\n",
              "count  14926.000000  14926.00000  14926.000000  14926.000000  14926.000000\n",
              "mean       1.379269      1.37934      1.379198      1.379269    103.360847\n",
              "std        0.004889      0.00489      0.004889      0.004889    103.606178\n",
              "min        1.368000      1.36806      1.367930      1.368010      1.000000\n",
              "25%        1.375810      1.37588      1.375730      1.375810     35.000000\n",
              "50%        1.378420      1.37850      1.378350      1.378420     75.000000\n",
              "75%        1.383620      1.38367      1.383570      1.383620    139.000000\n",
              "max        1.389070      1.38912      1.389060      1.389080   2960.000000"
            ]
          },
          "metadata": {},
          "execution_count": 38
        }
      ]
    },
    {
      "cell_type": "code",
      "metadata": {
        "colab": {
          "base_uri": "https://localhost:8080/",
          "height": 300
        },
        "id": "Tc0hjNgTdLsV",
        "outputId": "daa2a090-ac6f-40bf-c2b0-fbef30c92a8f"
      },
      "source": [
        "df_5.describe()"
      ],
      "execution_count": 39,
      "outputs": [
        {
          "output_type": "execute_result",
          "data": {
            "text/html": [
              "<div>\n",
              "<style scoped>\n",
              "    .dataframe tbody tr th:only-of-type {\n",
              "        vertical-align: middle;\n",
              "    }\n",
              "\n",
              "    .dataframe tbody tr th {\n",
              "        vertical-align: top;\n",
              "    }\n",
              "\n",
              "    .dataframe thead th {\n",
              "        text-align: right;\n",
              "    }\n",
              "</style>\n",
              "<table border=\"1\" class=\"dataframe\">\n",
              "  <thead>\n",
              "    <tr style=\"text-align: right;\">\n",
              "      <th></th>\n",
              "      <th>Open</th>\n",
              "      <th>High</th>\n",
              "      <th>Low</th>\n",
              "      <th>Close</th>\n",
              "      <th>Volume</th>\n",
              "    </tr>\n",
              "  </thead>\n",
              "  <tbody>\n",
              "    <tr>\n",
              "      <th>count</th>\n",
              "      <td>2047.000000</td>\n",
              "      <td>2047.000000</td>\n",
              "      <td>2047.000000</td>\n",
              "      <td>2047.000000</td>\n",
              "      <td>2047.000000</td>\n",
              "    </tr>\n",
              "    <tr>\n",
              "      <th>mean</th>\n",
              "      <td>1.381666</td>\n",
              "      <td>1.381841</td>\n",
              "      <td>1.381494</td>\n",
              "      <td>1.381668</td>\n",
              "      <td>518.878847</td>\n",
              "    </tr>\n",
              "    <tr>\n",
              "      <th>std</th>\n",
              "      <td>0.003578</td>\n",
              "      <td>0.003582</td>\n",
              "      <td>0.003579</td>\n",
              "      <td>0.003578</td>\n",
              "      <td>463.293459</td>\n",
              "    </tr>\n",
              "    <tr>\n",
              "      <th>min</th>\n",
              "      <td>1.373010</td>\n",
              "      <td>1.373600</td>\n",
              "      <td>1.372590</td>\n",
              "      <td>1.373010</td>\n",
              "      <td>5.000000</td>\n",
              "    </tr>\n",
              "    <tr>\n",
              "      <th>25%</th>\n",
              "      <td>1.377990</td>\n",
              "      <td>1.378125</td>\n",
              "      <td>1.377845</td>\n",
              "      <td>1.377980</td>\n",
              "      <td>212.500000</td>\n",
              "    </tr>\n",
              "    <tr>\n",
              "      <th>50%</th>\n",
              "      <td>1.383140</td>\n",
              "      <td>1.383280</td>\n",
              "      <td>1.382970</td>\n",
              "      <td>1.383130</td>\n",
              "      <td>389.000000</td>\n",
              "    </tr>\n",
              "    <tr>\n",
              "      <th>75%</th>\n",
              "      <td>1.384350</td>\n",
              "      <td>1.384525</td>\n",
              "      <td>1.384180</td>\n",
              "      <td>1.384350</td>\n",
              "      <td>682.500000</td>\n",
              "    </tr>\n",
              "    <tr>\n",
              "      <th>max</th>\n",
              "      <td>1.389060</td>\n",
              "      <td>1.389120</td>\n",
              "      <td>1.388850</td>\n",
              "      <td>1.389060</td>\n",
              "      <td>6427.000000</td>\n",
              "    </tr>\n",
              "  </tbody>\n",
              "</table>\n",
              "</div>"
            ],
            "text/plain": [
              "              Open         High          Low        Close       Volume\n",
              "count  2047.000000  2047.000000  2047.000000  2047.000000  2047.000000\n",
              "mean      1.381666     1.381841     1.381494     1.381668   518.878847\n",
              "std       0.003578     0.003582     0.003579     0.003578   463.293459\n",
              "min       1.373010     1.373600     1.372590     1.373010     5.000000\n",
              "25%       1.377990     1.378125     1.377845     1.377980   212.500000\n",
              "50%       1.383140     1.383280     1.382970     1.383130   389.000000\n",
              "75%       1.384350     1.384525     1.384180     1.384350   682.500000\n",
              "max       1.389060     1.389120     1.388850     1.389060  6427.000000"
            ]
          },
          "metadata": {},
          "execution_count": 39
        }
      ]
    },
    {
      "cell_type": "code",
      "metadata": {
        "colab": {
          "base_uri": "https://localhost:8080/",
          "height": 300
        },
        "id": "FaMuXwujdLvC",
        "outputId": "106a8a49-c7ed-44fc-cdf1-cc872f20b7c9"
      },
      "source": [
        "df_15.describe()"
      ],
      "execution_count": 40,
      "outputs": [
        {
          "output_type": "execute_result",
          "data": {
            "text/html": [
              "<div>\n",
              "<style scoped>\n",
              "    .dataframe tbody tr th:only-of-type {\n",
              "        vertical-align: middle;\n",
              "    }\n",
              "\n",
              "    .dataframe tbody tr th {\n",
              "        vertical-align: top;\n",
              "    }\n",
              "\n",
              "    .dataframe thead th {\n",
              "        text-align: right;\n",
              "    }\n",
              "</style>\n",
              "<table border=\"1\" class=\"dataframe\">\n",
              "  <thead>\n",
              "    <tr style=\"text-align: right;\">\n",
              "      <th></th>\n",
              "      <th>Open</th>\n",
              "      <th>High</th>\n",
              "      <th>Low</th>\n",
              "      <th>Close</th>\n",
              "      <th>Volume</th>\n",
              "    </tr>\n",
              "  </thead>\n",
              "  <tbody>\n",
              "    <tr>\n",
              "      <th>count</th>\n",
              "      <td>2047.000000</td>\n",
              "      <td>2047.000000</td>\n",
              "      <td>2047.000000</td>\n",
              "      <td>2047.000000</td>\n",
              "      <td>2047.000000</td>\n",
              "    </tr>\n",
              "    <tr>\n",
              "      <th>mean</th>\n",
              "      <td>1.376864</td>\n",
              "      <td>1.377188</td>\n",
              "      <td>1.376532</td>\n",
              "      <td>1.376865</td>\n",
              "      <td>1371.432829</td>\n",
              "    </tr>\n",
              "    <tr>\n",
              "      <th>std</th>\n",
              "      <td>0.006452</td>\n",
              "      <td>0.006436</td>\n",
              "      <td>0.006464</td>\n",
              "      <td>0.006452</td>\n",
              "      <td>1174.983285</td>\n",
              "    </tr>\n",
              "    <tr>\n",
              "      <th>min</th>\n",
              "      <td>1.360460</td>\n",
              "      <td>1.361180</td>\n",
              "      <td>1.360160</td>\n",
              "      <td>1.360470</td>\n",
              "      <td>24.000000</td>\n",
              "    </tr>\n",
              "    <tr>\n",
              "      <th>25%</th>\n",
              "      <td>1.372850</td>\n",
              "      <td>1.373150</td>\n",
              "      <td>1.372580</td>\n",
              "      <td>1.372840</td>\n",
              "      <td>603.500000</td>\n",
              "    </tr>\n",
              "    <tr>\n",
              "      <th>50%</th>\n",
              "      <td>1.376640</td>\n",
              "      <td>1.376930</td>\n",
              "      <td>1.376250</td>\n",
              "      <td>1.376640</td>\n",
              "      <td>1070.000000</td>\n",
              "    </tr>\n",
              "    <tr>\n",
              "      <th>75%</th>\n",
              "      <td>1.383025</td>\n",
              "      <td>1.383295</td>\n",
              "      <td>1.382670</td>\n",
              "      <td>1.383025</td>\n",
              "      <td>1790.500000</td>\n",
              "    </tr>\n",
              "    <tr>\n",
              "      <th>max</th>\n",
              "      <td>1.388950</td>\n",
              "      <td>1.389120</td>\n",
              "      <td>1.388820</td>\n",
              "      <td>1.388960</td>\n",
              "      <td>18414.000000</td>\n",
              "    </tr>\n",
              "  </tbody>\n",
              "</table>\n",
              "</div>"
            ],
            "text/plain": [
              "              Open         High          Low        Close        Volume\n",
              "count  2047.000000  2047.000000  2047.000000  2047.000000   2047.000000\n",
              "mean      1.376864     1.377188     1.376532     1.376865   1371.432829\n",
              "std       0.006452     0.006436     0.006464     0.006452   1174.983285\n",
              "min       1.360460     1.361180     1.360160     1.360470     24.000000\n",
              "25%       1.372850     1.373150     1.372580     1.372840    603.500000\n",
              "50%       1.376640     1.376930     1.376250     1.376640   1070.000000\n",
              "75%       1.383025     1.383295     1.382670     1.383025   1790.500000\n",
              "max       1.388950     1.389120     1.388820     1.388960  18414.000000"
            ]
          },
          "metadata": {},
          "execution_count": 40
        }
      ]
    },
    {
      "cell_type": "code",
      "metadata": {
        "colab": {
          "base_uri": "https://localhost:8080/",
          "height": 300
        },
        "id": "F6h17eFvdLze",
        "outputId": "aaef7dac-7a78-4598-a616-a3a6739be392"
      },
      "source": [
        "df_30.describe()"
      ],
      "execution_count": 41,
      "outputs": [
        {
          "output_type": "execute_result",
          "data": {
            "text/html": [
              "<div>\n",
              "<style scoped>\n",
              "    .dataframe tbody tr th:only-of-type {\n",
              "        vertical-align: middle;\n",
              "    }\n",
              "\n",
              "    .dataframe tbody tr th {\n",
              "        vertical-align: top;\n",
              "    }\n",
              "\n",
              "    .dataframe thead th {\n",
              "        text-align: right;\n",
              "    }\n",
              "</style>\n",
              "<table border=\"1\" class=\"dataframe\">\n",
              "  <thead>\n",
              "    <tr style=\"text-align: right;\">\n",
              "      <th></th>\n",
              "      <th>Open</th>\n",
              "      <th>High</th>\n",
              "      <th>Low</th>\n",
              "      <th>Close</th>\n",
              "      <th>Volume</th>\n",
              "    </tr>\n",
              "  </thead>\n",
              "  <tbody>\n",
              "    <tr>\n",
              "      <th>count</th>\n",
              "      <td>2542.000000</td>\n",
              "      <td>2542.000000</td>\n",
              "      <td>2542.000000</td>\n",
              "      <td>2542.000000</td>\n",
              "      <td>2542.000000</td>\n",
              "    </tr>\n",
              "    <tr>\n",
              "      <th>mean</th>\n",
              "      <td>1.380477</td>\n",
              "      <td>1.380995</td>\n",
              "      <td>1.379949</td>\n",
              "      <td>1.380482</td>\n",
              "      <td>3480.107396</td>\n",
              "    </tr>\n",
              "    <tr>\n",
              "      <th>std</th>\n",
              "      <td>0.007807</td>\n",
              "      <td>0.007791</td>\n",
              "      <td>0.007828</td>\n",
              "      <td>0.007808</td>\n",
              "      <td>2877.463770</td>\n",
              "    </tr>\n",
              "    <tr>\n",
              "      <th>min</th>\n",
              "      <td>1.357960</td>\n",
              "      <td>1.359340</td>\n",
              "      <td>1.357110</td>\n",
              "      <td>1.357970</td>\n",
              "      <td>62.000000</td>\n",
              "    </tr>\n",
              "    <tr>\n",
              "      <th>25%</th>\n",
              "      <td>1.375610</td>\n",
              "      <td>1.376050</td>\n",
              "      <td>1.375132</td>\n",
              "      <td>1.375612</td>\n",
              "      <td>1480.000000</td>\n",
              "    </tr>\n",
              "    <tr>\n",
              "      <th>50%</th>\n",
              "      <td>1.381435</td>\n",
              "      <td>1.382000</td>\n",
              "      <td>1.380990</td>\n",
              "      <td>1.381435</td>\n",
              "      <td>2670.500000</td>\n",
              "    </tr>\n",
              "    <tr>\n",
              "      <th>75%</th>\n",
              "      <td>1.385947</td>\n",
              "      <td>1.386485</td>\n",
              "      <td>1.385398</td>\n",
              "      <td>1.385947</td>\n",
              "      <td>4685.750000</td>\n",
              "    </tr>\n",
              "    <tr>\n",
              "      <th>max</th>\n",
              "      <td>1.398240</td>\n",
              "      <td>1.398280</td>\n",
              "      <td>1.397210</td>\n",
              "      <td>1.398250</td>\n",
              "      <td>31236.000000</td>\n",
              "    </tr>\n",
              "  </tbody>\n",
              "</table>\n",
              "</div>"
            ],
            "text/plain": [
              "              Open         High          Low        Close        Volume\n",
              "count  2542.000000  2542.000000  2542.000000  2542.000000   2542.000000\n",
              "mean      1.380477     1.380995     1.379949     1.380482   3480.107396\n",
              "std       0.007807     0.007791     0.007828     0.007808   2877.463770\n",
              "min       1.357960     1.359340     1.357110     1.357970     62.000000\n",
              "25%       1.375610     1.376050     1.375132     1.375612   1480.000000\n",
              "50%       1.381435     1.382000     1.380990     1.381435   2670.500000\n",
              "75%       1.385947     1.386485     1.385398     1.385947   4685.750000\n",
              "max       1.398240     1.398280     1.397210     1.398250  31236.000000"
            ]
          },
          "metadata": {},
          "execution_count": 41
        }
      ]
    },
    {
      "cell_type": "code",
      "metadata": {
        "colab": {
          "base_uri": "https://localhost:8080/",
          "height": 300
        },
        "id": "9C-q_4queJK0",
        "outputId": "75279079-3aab-41c4-b8ef-1ce181d10589"
      },
      "source": [
        "df_60.describe()"
      ],
      "execution_count": 42,
      "outputs": [
        {
          "output_type": "execute_result",
          "data": {
            "text/html": [
              "<div>\n",
              "<style scoped>\n",
              "    .dataframe tbody tr th:only-of-type {\n",
              "        vertical-align: middle;\n",
              "    }\n",
              "\n",
              "    .dataframe tbody tr th {\n",
              "        vertical-align: top;\n",
              "    }\n",
              "\n",
              "    .dataframe thead th {\n",
              "        text-align: right;\n",
              "    }\n",
              "</style>\n",
              "<table border=\"1\" class=\"dataframe\">\n",
              "  <thead>\n",
              "    <tr style=\"text-align: right;\">\n",
              "      <th></th>\n",
              "      <th>Open</th>\n",
              "      <th>High</th>\n",
              "      <th>Low</th>\n",
              "      <th>Close</th>\n",
              "      <th>Volume</th>\n",
              "    </tr>\n",
              "  </thead>\n",
              "  <tbody>\n",
              "    <tr>\n",
              "      <th>count</th>\n",
              "      <td>2900.000000</td>\n",
              "      <td>2900.000000</td>\n",
              "      <td>2900.000000</td>\n",
              "      <td>2900.000000</td>\n",
              "      <td>2900.000000</td>\n",
              "    </tr>\n",
              "    <tr>\n",
              "      <th>mean</th>\n",
              "      <td>1.389876</td>\n",
              "      <td>1.390679</td>\n",
              "      <td>1.389074</td>\n",
              "      <td>1.389889</td>\n",
              "      <td>7333.542414</td>\n",
              "    </tr>\n",
              "    <tr>\n",
              "      <th>std</th>\n",
              "      <td>0.015039</td>\n",
              "      <td>0.015040</td>\n",
              "      <td>0.015042</td>\n",
              "      <td>0.015035</td>\n",
              "      <td>5420.437655</td>\n",
              "    </tr>\n",
              "    <tr>\n",
              "      <th>min</th>\n",
              "      <td>1.359290</td>\n",
              "      <td>1.361440</td>\n",
              "      <td>1.357110</td>\n",
              "      <td>1.359300</td>\n",
              "      <td>45.000000</td>\n",
              "    </tr>\n",
              "    <tr>\n",
              "      <th>25%</th>\n",
              "      <td>1.378378</td>\n",
              "      <td>1.379360</td>\n",
              "      <td>1.377575</td>\n",
              "      <td>1.378390</td>\n",
              "      <td>3329.750000</td>\n",
              "    </tr>\n",
              "    <tr>\n",
              "      <th>50%</th>\n",
              "      <td>1.386640</td>\n",
              "      <td>1.387415</td>\n",
              "      <td>1.385750</td>\n",
              "      <td>1.386660</td>\n",
              "      <td>5992.500000</td>\n",
              "    </tr>\n",
              "    <tr>\n",
              "      <th>75%</th>\n",
              "      <td>1.397000</td>\n",
              "      <td>1.397982</td>\n",
              "      <td>1.396112</td>\n",
              "      <td>1.396993</td>\n",
              "      <td>10229.000000</td>\n",
              "    </tr>\n",
              "    <tr>\n",
              "      <th>max</th>\n",
              "      <td>1.424070</td>\n",
              "      <td>1.425010</td>\n",
              "      <td>1.423310</td>\n",
              "      <td>1.424060</td>\n",
              "      <td>67085.000000</td>\n",
              "    </tr>\n",
              "  </tbody>\n",
              "</table>\n",
              "</div>"
            ],
            "text/plain": [
              "              Open         High          Low        Close        Volume\n",
              "count  2900.000000  2900.000000  2900.000000  2900.000000   2900.000000\n",
              "mean      1.389876     1.390679     1.389074     1.389889   7333.542414\n",
              "std       0.015039     0.015040     0.015042     0.015035   5420.437655\n",
              "min       1.359290     1.361440     1.357110     1.359300     45.000000\n",
              "25%       1.378378     1.379360     1.377575     1.378390   3329.750000\n",
              "50%       1.386640     1.387415     1.385750     1.386660   5992.500000\n",
              "75%       1.397000     1.397982     1.396112     1.396993  10229.000000\n",
              "max       1.424070     1.425010     1.423310     1.424060  67085.000000"
            ]
          },
          "metadata": {},
          "execution_count": 42
        }
      ]
    },
    {
      "cell_type": "code",
      "metadata": {
        "colab": {
          "base_uri": "https://localhost:8080/",
          "height": 300
        },
        "id": "t7COVD18eJRt",
        "outputId": "dc7b0f74-ab5f-48de-bcb1-7e5507ca9dea"
      },
      "source": [
        "df_4h.describe()"
      ],
      "execution_count": 43,
      "outputs": [
        {
          "output_type": "execute_result",
          "data": {
            "text/html": [
              "<div>\n",
              "<style scoped>\n",
              "    .dataframe tbody tr th:only-of-type {\n",
              "        vertical-align: middle;\n",
              "    }\n",
              "\n",
              "    .dataframe tbody tr th {\n",
              "        vertical-align: top;\n",
              "    }\n",
              "\n",
              "    .dataframe thead th {\n",
              "        text-align: right;\n",
              "    }\n",
              "</style>\n",
              "<table border=\"1\" class=\"dataframe\">\n",
              "  <thead>\n",
              "    <tr style=\"text-align: right;\">\n",
              "      <th></th>\n",
              "      <th>Open</th>\n",
              "      <th>High</th>\n",
              "      <th>Low</th>\n",
              "      <th>Close</th>\n",
              "      <th>Volume</th>\n",
              "    </tr>\n",
              "  </thead>\n",
              "  <tbody>\n",
              "    <tr>\n",
              "      <th>count</th>\n",
              "      <td>12623.000000</td>\n",
              "      <td>12623.000000</td>\n",
              "      <td>12623.000000</td>\n",
              "      <td>12623.000000</td>\n",
              "      <td>12623.000000</td>\n",
              "    </tr>\n",
              "    <tr>\n",
              "      <th>mean</th>\n",
              "      <td>1.434931</td>\n",
              "      <td>1.437157</td>\n",
              "      <td>1.432726</td>\n",
              "      <td>1.434948</td>\n",
              "      <td>16861.424146</td>\n",
              "    </tr>\n",
              "    <tr>\n",
              "      <th>std</th>\n",
              "      <td>0.137394</td>\n",
              "      <td>0.137523</td>\n",
              "      <td>0.137238</td>\n",
              "      <td>0.137383</td>\n",
              "      <td>11600.668578</td>\n",
              "    </tr>\n",
              "    <tr>\n",
              "      <th>min</th>\n",
              "      <td>1.146520</td>\n",
              "      <td>1.153650</td>\n",
              "      <td>1.140980</td>\n",
              "      <td>1.146530</td>\n",
              "      <td>41.000000</td>\n",
              "    </tr>\n",
              "    <tr>\n",
              "      <th>25%</th>\n",
              "      <td>1.304725</td>\n",
              "      <td>1.306630</td>\n",
              "      <td>1.302915</td>\n",
              "      <td>1.304725</td>\n",
              "      <td>8247.000000</td>\n",
              "    </tr>\n",
              "    <tr>\n",
              "      <th>50%</th>\n",
              "      <td>1.400880</td>\n",
              "      <td>1.403020</td>\n",
              "      <td>1.399120</td>\n",
              "      <td>1.400750</td>\n",
              "      <td>13970.000000</td>\n",
              "    </tr>\n",
              "    <tr>\n",
              "      <th>75%</th>\n",
              "      <td>1.569595</td>\n",
              "      <td>1.571945</td>\n",
              "      <td>1.567435</td>\n",
              "      <td>1.569615</td>\n",
              "      <td>22318.500000</td>\n",
              "    </tr>\n",
              "    <tr>\n",
              "      <th>max</th>\n",
              "      <td>1.671320</td>\n",
              "      <td>1.674490</td>\n",
              "      <td>1.669200</td>\n",
              "      <td>1.671320</td>\n",
              "      <td>106179.000000</td>\n",
              "    </tr>\n",
              "  </tbody>\n",
              "</table>\n",
              "</div>"
            ],
            "text/plain": [
              "               Open          High           Low         Close         Volume\n",
              "count  12623.000000  12623.000000  12623.000000  12623.000000   12623.000000\n",
              "mean       1.434931      1.437157      1.432726      1.434948   16861.424146\n",
              "std        0.137394      0.137523      0.137238      0.137383   11600.668578\n",
              "min        1.146520      1.153650      1.140980      1.146530      41.000000\n",
              "25%        1.304725      1.306630      1.302915      1.304725    8247.000000\n",
              "50%        1.400880      1.403020      1.399120      1.400750   13970.000000\n",
              "75%        1.569595      1.571945      1.567435      1.569615   22318.500000\n",
              "max        1.671320      1.674490      1.669200      1.671320  106179.000000"
            ]
          },
          "metadata": {},
          "execution_count": 43
        }
      ]
    },
    {
      "cell_type": "code",
      "metadata": {
        "colab": {
          "base_uri": "https://localhost:8080/",
          "height": 300
        },
        "id": "kD52B3IBeJg7",
        "outputId": "60a373bb-1c79-49e8-fde4-75d3860d0ac1"
      },
      "source": [
        "df_1d.describe()"
      ],
      "execution_count": 44,
      "outputs": [
        {
          "output_type": "execute_result",
          "data": {
            "text/html": [
              "<div>\n",
              "<style scoped>\n",
              "    .dataframe tbody tr th:only-of-type {\n",
              "        vertical-align: middle;\n",
              "    }\n",
              "\n",
              "    .dataframe tbody tr th {\n",
              "        vertical-align: top;\n",
              "    }\n",
              "\n",
              "    .dataframe thead th {\n",
              "        text-align: right;\n",
              "    }\n",
              "</style>\n",
              "<table border=\"1\" class=\"dataframe\">\n",
              "  <thead>\n",
              "    <tr style=\"text-align: right;\">\n",
              "      <th></th>\n",
              "      <th>Open</th>\n",
              "      <th>High</th>\n",
              "      <th>Low</th>\n",
              "      <th>Close</th>\n",
              "      <th>Volume</th>\n",
              "    </tr>\n",
              "  </thead>\n",
              "  <tbody>\n",
              "    <tr>\n",
              "      <th>count</th>\n",
              "      <td>1171.000000</td>\n",
              "      <td>1171.000000</td>\n",
              "      <td>1171.000000</td>\n",
              "      <td>1171.000000</td>\n",
              "      <td>1171.000000</td>\n",
              "    </tr>\n",
              "    <tr>\n",
              "      <th>mean</th>\n",
              "      <td>1.311465</td>\n",
              "      <td>1.317293</td>\n",
              "      <td>1.306554</td>\n",
              "      <td>1.311949</td>\n",
              "      <td>195491.249360</td>\n",
              "    </tr>\n",
              "    <tr>\n",
              "      <th>std</th>\n",
              "      <td>0.053072</td>\n",
              "      <td>0.052699</td>\n",
              "      <td>0.053326</td>\n",
              "      <td>0.053050</td>\n",
              "      <td>71378.909763</td>\n",
              "    </tr>\n",
              "    <tr>\n",
              "      <th>min</th>\n",
              "      <td>1.148650</td>\n",
              "      <td>1.171410</td>\n",
              "      <td>1.140930</td>\n",
              "      <td>1.147840</td>\n",
              "      <td>68967.000000</td>\n",
              "    </tr>\n",
              "    <tr>\n",
              "      <th>25%</th>\n",
              "      <td>1.278100</td>\n",
              "      <td>1.284220</td>\n",
              "      <td>1.272930</td>\n",
              "      <td>1.278700</td>\n",
              "      <td>144003.500000</td>\n",
              "    </tr>\n",
              "    <tr>\n",
              "      <th>50%</th>\n",
              "      <td>1.305150</td>\n",
              "      <td>1.311310</td>\n",
              "      <td>1.300540</td>\n",
              "      <td>1.305190</td>\n",
              "      <td>184583.000000</td>\n",
              "    </tr>\n",
              "    <tr>\n",
              "      <th>75%</th>\n",
              "      <td>1.347255</td>\n",
              "      <td>1.354870</td>\n",
              "      <td>1.342925</td>\n",
              "      <td>1.349140</td>\n",
              "      <td>231349.000000</td>\n",
              "    </tr>\n",
              "    <tr>\n",
              "      <th>max</th>\n",
              "      <td>1.433580</td>\n",
              "      <td>1.437620</td>\n",
              "      <td>1.428190</td>\n",
              "      <td>1.433780</td>\n",
              "      <td>635424.000000</td>\n",
              "    </tr>\n",
              "  </tbody>\n",
              "</table>\n",
              "</div>"
            ],
            "text/plain": [
              "              Open         High          Low        Close         Volume\n",
              "count  1171.000000  1171.000000  1171.000000  1171.000000    1171.000000\n",
              "mean      1.311465     1.317293     1.306554     1.311949  195491.249360\n",
              "std       0.053072     0.052699     0.053326     0.053050   71378.909763\n",
              "min       1.148650     1.171410     1.140930     1.147840   68967.000000\n",
              "25%       1.278100     1.284220     1.272930     1.278700  144003.500000\n",
              "50%       1.305150     1.311310     1.300540     1.305190  184583.000000\n",
              "75%       1.347255     1.354870     1.342925     1.349140  231349.000000\n",
              "max       1.433580     1.437620     1.428190     1.433780  635424.000000"
            ]
          },
          "metadata": {},
          "execution_count": 44
        }
      ]
    },
    {
      "cell_type": "code",
      "metadata": {
        "colab": {
          "base_uri": "https://localhost:8080/",
          "height": 206
        },
        "id": "XQzvnh_ogUAb",
        "outputId": "378ad95b-0159-45f5-8dcf-04e449e03709"
      },
      "source": [
        "df_1d.drop('Time', axis = 1,inplace=True)\n",
        "df_1d.head()"
      ],
      "execution_count": 54,
      "outputs": [
        {
          "output_type": "execute_result",
          "data": {
            "text/html": [
              "<div>\n",
              "<style scoped>\n",
              "    .dataframe tbody tr th:only-of-type {\n",
              "        vertical-align: middle;\n",
              "    }\n",
              "\n",
              "    .dataframe tbody tr th {\n",
              "        vertical-align: top;\n",
              "    }\n",
              "\n",
              "    .dataframe thead th {\n",
              "        text-align: right;\n",
              "    }\n",
              "</style>\n",
              "<table border=\"1\" class=\"dataframe\">\n",
              "  <thead>\n",
              "    <tr style=\"text-align: right;\">\n",
              "      <th></th>\n",
              "      <th>Date</th>\n",
              "      <th>Open</th>\n",
              "      <th>High</th>\n",
              "      <th>Low</th>\n",
              "      <th>Close</th>\n",
              "      <th>Volume</th>\n",
              "    </tr>\n",
              "  </thead>\n",
              "  <tbody>\n",
              "    <tr>\n",
              "      <th>0</th>\n",
              "      <td>2017.03.07</td>\n",
              "      <td>1.22323</td>\n",
              "      <td>1.22521</td>\n",
              "      <td>1.21685</td>\n",
              "      <td>1.21951</td>\n",
              "      <td>169063</td>\n",
              "    </tr>\n",
              "    <tr>\n",
              "      <th>1</th>\n",
              "      <td>2017.03.08</td>\n",
              "      <td>1.21908</td>\n",
              "      <td>1.22132</td>\n",
              "      <td>1.21381</td>\n",
              "      <td>1.21643</td>\n",
              "      <td>169912</td>\n",
              "    </tr>\n",
              "    <tr>\n",
              "      <th>2</th>\n",
              "      <td>2017.03.09</td>\n",
              "      <td>1.21643</td>\n",
              "      <td>1.21948</td>\n",
              "      <td>1.21338</td>\n",
              "      <td>1.21642</td>\n",
              "      <td>199114</td>\n",
              "    </tr>\n",
              "    <tr>\n",
              "      <th>3</th>\n",
              "      <td>2017.03.10</td>\n",
              "      <td>1.21642</td>\n",
              "      <td>1.21878</td>\n",
              "      <td>1.21378</td>\n",
              "      <td>1.21658</td>\n",
              "      <td>188516</td>\n",
              "    </tr>\n",
              "    <tr>\n",
              "      <th>4</th>\n",
              "      <td>2017.03.13</td>\n",
              "      <td>1.21572</td>\n",
              "      <td>1.22503</td>\n",
              "      <td>1.21512</td>\n",
              "      <td>1.22153</td>\n",
              "      <td>212231</td>\n",
              "    </tr>\n",
              "  </tbody>\n",
              "</table>\n",
              "</div>"
            ],
            "text/plain": [
              "         Date     Open     High      Low    Close  Volume\n",
              "0  2017.03.07  1.22323  1.22521  1.21685  1.21951  169063\n",
              "1  2017.03.08  1.21908  1.22132  1.21381  1.21643  169912\n",
              "2  2017.03.09  1.21643  1.21948  1.21338  1.21642  199114\n",
              "3  2017.03.10  1.21642  1.21878  1.21378  1.21658  188516\n",
              "4  2017.03.13  1.21572  1.22503  1.21512  1.22153  212231"
            ]
          },
          "metadata": {},
          "execution_count": 54
        }
      ]
    },
    {
      "cell_type": "code",
      "metadata": {
        "id": "0APbM4yliYEJ"
      },
      "source": [
        "def pip(df):\n",
        "  df['pip'] = 0\n",
        "  for index, row in df.iterrows():\n",
        "    pip_value = math.floor(row['Open']*10000 - row['Close']*10000)\n",
        "    df.at[index,'pip'] = pip_value"
      ],
      "execution_count": 58,
      "outputs": []
    },
    {
      "cell_type": "code",
      "metadata": {
        "id": "va5FMPEvi8kg"
      },
      "source": [
        "pip(df_1)\n",
        "pip(df_5)\n",
        "pip(df_15)\n",
        "pip(df_30)\n",
        "pip(df_60)\n",
        "pip(df_4h)\n",
        "pip(df_1d)"
      ],
      "execution_count": 62,
      "outputs": []
    },
    {
      "cell_type": "code",
      "metadata": {
        "colab": {
          "base_uri": "https://localhost:8080/"
        },
        "id": "Rem2YtdEi8wP",
        "outputId": "3e2030ea-48ec-476c-de13-ba9082864bbd"
      },
      "source": [
        "print(df_5.head(3))\n",
        "print()\n",
        "print(df_30.head(3))\n",
        "print()\n",
        "print(df_4h.head(3))"
      ],
      "execution_count": 63,
      "outputs": [
        {
          "output_type": "stream",
          "name": "stdout",
          "text": [
            "         Date   Time     Open     High      Low    Close  Volume  pip\n",
            "0  2021.09.01  21:25  1.37785  1.37798  1.37785  1.37795     285   -1\n",
            "1  2021.09.01  21:30  1.37795  1.37796  1.37768  1.37783     408    1\n",
            "2  2021.09.01  21:35  1.37784  1.37785  1.37757  1.37757     468    2\n",
            "\n",
            "         Date   Time     Open     High      Low    Close  Volume  pip\n",
            "0  2021.06.30  01:00  1.38380  1.38437  1.38378  1.38437    1549   -6\n",
            "1  2021.06.30  01:30  1.38437  1.38437  1.38397  1.38426     600    1\n",
            "2  2021.06.30  02:00  1.38425  1.38432  1.38377  1.38398    1302    2\n",
            "\n",
            "         Date   Time    Open    High     Low   Close  Volume  pip\n",
            "0  2009.12.21  04:00  1.6159  1.6161  1.6117  1.6130    6251   28\n",
            "1  2009.12.21  08:00  1.6129  1.6156  1.6088  1.6125   11887    4\n",
            "2  2009.12.21  12:00  1.6124  1.6132  1.6075  1.6085   12436   39\n"
          ]
        }
      ]
    },
    {
      "cell_type": "markdown",
      "metadata": {
        "id": "c2nA-wOGk-3-"
      },
      "source": [
        "<font color='#15d1e6' size=8.0>**Exploratory Data Analysis**</font> <br/>\n",
        "<font color='white' size=6.0>**Visualization**</font>"
      ]
    },
    {
      "cell_type": "code",
      "metadata": {
        "id": "w5D1zYCegUFS"
      },
      "source": [
        "vol_mean = df_4h.groupby('Time')['Volume'].mean()"
      ],
      "execution_count": 85,
      "outputs": []
    },
    {
      "cell_type": "code",
      "metadata": {
        "colab": {
          "base_uri": "https://localhost:8080/",
          "height": 602
        },
        "id": "ilYIyi7NgUHy",
        "outputId": "287be399-df6a-4a7d-e144-96b0ccf25fb6"
      },
      "source": [
        "sns.set_theme(style=\"whitegrid\")\n",
        "plt.figure(figsize=(12,8))\n",
        "sns.barplot(df_4h['Time'].unique(),vol_mean,label='Volume',color='#e61515')\n",
        "plt.xlabel('Time',fontsize=15)\n",
        "plt.ylabel('Volume Mean',fontsize=15)\n",
        "plt.title('Time vs Volume Avg',fontsize=20)\n",
        "plt.xticks(rotation=45)\n",
        "plt.legend()\n",
        "plt.show()"
      ],
      "execution_count": 100,
      "outputs": [
        {
          "output_type": "stream",
          "name": "stderr",
          "text": [
            "/usr/local/lib/python3.7/dist-packages/seaborn/_decorators.py:43: FutureWarning: Pass the following variables as keyword args: x, y. From version 0.12, the only valid positional argument will be `data`, and passing other arguments without an explicit keyword will result in an error or misinterpretation.\n",
            "  FutureWarning\n"
          ]
        },
        {
          "output_type": "display_data",
          "data": {
            "image/png": "[encoded data removed]",
            "text/plain": [
              "<Figure size 1080x576 with 1 Axes>"
            ]
          },
          "metadata": {}
        }
      ]
    },
    {
      "cell_type": "code",
      "metadata": {
        "colab": {
          "base_uri": "https://localhost:8080/",
          "height": 502
        },
        "id": "K6Vjg0pe1SDe",
        "outputId": "b399be15-cc03-46cc-8fb6-53ac4be39369"
      },
      "source": [
        "sns.set_theme(style=\"whitegrid\")\n",
        "plt.figure(figsize=(20,8))\n",
        "sns.violinplot(x=\"Time\",y=\"High\",data=df_4h)\n",
        "sns.violinplot(x=\"Time\",y=\"Close\",data=df_4h)\n",
        "plt.show()"
      ],
      "execution_count": 114,
      "outputs": [
        {
          "output_type": "display_data",
          "data": {
            "image/png": "[encoded data removed]",
            "text/plain": [
              "<Figure size 1440x576 with 1 Axes>"
            ]
          },
          "metadata": {}
        }
      ]
    },
    {
      "cell_type": "code",
      "metadata": {
        "colab": {
          "base_uri": "https://localhost:8080/",
          "height": 502
        },
        "id": "FHomZA98rvce",
        "outputId": "794da9c8-7c7a-4111-b3c6-43812d8960b1"
      },
      "source": [
        "sns.set_theme(style=\"whitegrid\")\n",
        "plt.figure(figsize=(20,8))\n",
        "sns.violinplot(x=\"Open\",y=\"Close\",data=df_4h)\n",
        "plt.show()"
      ],
      "execution_count": 103,
      "outputs": [
        {
          "output_type": "display_data",
          "data": {
            "image/png": "[encoded data removed]",
            "text/plain": [
              "<Figure size 1440x576 with 1 Axes>"
            ]
          },
          "metadata": {}
        }
      ]
    },
    {
      "cell_type": "code",
      "metadata": {
        "colab": {
          "base_uri": "https://localhost:8080/",
          "height": 238
        },
        "id": "F_kkSWos3ndz",
        "outputId": "14126fdc-39de-4f58-c4ee-0728128aa268"
      },
      "source": [
        "rslt_df = df_4h[df_4h['Date'].str.contains('2021.08.02')]\n",
        "rslt_df"
      ],
      "execution_count": 127,
      "outputs": [
        {
          "output_type": "execute_result",
          "data": {
            "text/html": [
              "<div>\n",
              "<style scoped>\n",
              "    .dataframe tbody tr th:only-of-type {\n",
              "        vertical-align: middle;\n",
              "    }\n",
              "\n",
              "    .dataframe tbody tr th {\n",
              "        vertical-align: top;\n",
              "    }\n",
              "\n",
              "    .dataframe thead th {\n",
              "        text-align: right;\n",
              "    }\n",
              "</style>\n",
              "<table border=\"1\" class=\"dataframe\">\n",
              "  <thead>\n",
              "    <tr style=\"text-align: right;\">\n",
              "      <th></th>\n",
              "      <th>Date</th>\n",
              "      <th>Time</th>\n",
              "      <th>Open</th>\n",
              "      <th>High</th>\n",
              "      <th>Low</th>\n",
              "      <th>Close</th>\n",
              "      <th>Volume</th>\n",
              "      <th>pip</th>\n",
              "    </tr>\n",
              "  </thead>\n",
              "  <tbody>\n",
              "    <tr>\n",
              "      <th>12443</th>\n",
              "      <td>2021.08.02</td>\n",
              "      <td>00:00</td>\n",
              "      <td>1.38941</td>\n",
              "      <td>1.39040</td>\n",
              "      <td>1.38856</td>\n",
              "      <td>1.38999</td>\n",
              "      <td>11209</td>\n",
              "      <td>-6</td>\n",
              "    </tr>\n",
              "    <tr>\n",
              "      <th>12444</th>\n",
              "      <td>2021.08.02</td>\n",
              "      <td>04:00</td>\n",
              "      <td>1.38999</td>\n",
              "      <td>1.39031</td>\n",
              "      <td>1.38859</td>\n",
              "      <td>1.38985</td>\n",
              "      <td>15370</td>\n",
              "      <td>1</td>\n",
              "    </tr>\n",
              "    <tr>\n",
              "      <th>12445</th>\n",
              "      <td>2021.08.02</td>\n",
              "      <td>08:00</td>\n",
              "      <td>1.38984</td>\n",
              "      <td>1.39320</td>\n",
              "      <td>1.38956</td>\n",
              "      <td>1.39206</td>\n",
              "      <td>26301</td>\n",
              "      <td>-23</td>\n",
              "    </tr>\n",
              "    <tr>\n",
              "      <th>12446</th>\n",
              "      <td>2021.08.02</td>\n",
              "      <td>12:00</td>\n",
              "      <td>1.39205</td>\n",
              "      <td>1.39241</td>\n",
              "      <td>1.38837</td>\n",
              "      <td>1.38895</td>\n",
              "      <td>26670</td>\n",
              "      <td>31</td>\n",
              "    </tr>\n",
              "    <tr>\n",
              "      <th>12447</th>\n",
              "      <td>2021.08.02</td>\n",
              "      <td>16:00</td>\n",
              "      <td>1.38896</td>\n",
              "      <td>1.39180</td>\n",
              "      <td>1.38752</td>\n",
              "      <td>1.38948</td>\n",
              "      <td>47576</td>\n",
              "      <td>-6</td>\n",
              "    </tr>\n",
              "    <tr>\n",
              "      <th>12448</th>\n",
              "      <td>2021.08.02</td>\n",
              "      <td>20:00</td>\n",
              "      <td>1.38948</td>\n",
              "      <td>1.38950</td>\n",
              "      <td>1.38785</td>\n",
              "      <td>1.38860</td>\n",
              "      <td>14022</td>\n",
              "      <td>8</td>\n",
              "    </tr>\n",
              "  </tbody>\n",
              "</table>\n",
              "</div>"
            ],
            "text/plain": [
              "             Date   Time     Open     High      Low    Close  Volume  pip\n",
              "12443  2021.08.02  00:00  1.38941  1.39040  1.38856  1.38999   11209   -6\n",
              "12444  2021.08.02  04:00  1.38999  1.39031  1.38859  1.38985   15370    1\n",
              "12445  2021.08.02  08:00  1.38984  1.39320  1.38956  1.39206   26301  -23\n",
              "12446  2021.08.02  12:00  1.39205  1.39241  1.38837  1.38895   26670   31\n",
              "12447  2021.08.02  16:00  1.38896  1.39180  1.38752  1.38948   47576   -6\n",
              "12448  2021.08.02  20:00  1.38948  1.38950  1.38785  1.38860   14022    8"
            ]
          },
          "metadata": {},
          "execution_count": 127
        }
      ]
    },
    {
      "cell_type": "code",
      "metadata": {
        "colab": {
          "base_uri": "https://localhost:8080/",
          "height": 565
        },
        "id": "i9MGkKRA5k3J",
        "outputId": "d73ef5d5-3b4b-49e7-f5d0-3d39796582e4"
      },
      "source": [
        "sns.set_theme(style=\"whitegrid\")\n",
        "plt.figure(figsize=(12,8))\n",
        "sns.boxplot(x=\"Time\",y=\"High\",data=rslt_df,linewidth=3.0)\n",
        "sns.boxplot(x=\"Time\",y=\"Low\",data=rslt_df,linewidth=3.0)\n",
        "sns.boxplot(x=\"Time\",y=\"Open\",data=rslt_df)\n",
        "sns.boxplot(x=\"Time\",y=\"Close\",data=rslt_df)\n",
        "plt.xlabel('Time',fontsize=15.0)\n",
        "plt.ylabel('Price',fontsize=15.0)\n",
        "plt.title('GBP/USD \\nTime vs Price',fontsize=20.0)\n",
        "plt.legend()\n",
        "plt.show()"
      ],
      "execution_count": 161,
      "outputs": [
        {
          "output_type": "stream",
          "name": "stderr",
          "text": [
            "No handles with labels found to put in legend.\n"
          ]
        },
        {
          "output_type": "display_data",
          "data": {
            "image/png": "[encoded data removed]",
            "text/plain": [
              "<Figure size 864x576 with 1 Axes>"
            ]
          },
          "metadata": {}
        }
      ]
    },
    {
      "cell_type": "markdown",
      "metadata": {
        "id": "rYcS03DMvdYC"
      },
      "source": [
        "<font color='#15d1e6' size=8.0>**Exploratory Data Analysis**</font> <br/>\n",
        "<font color='white' size=6.0>**Statistics**</font>"
      ]
    },
    {
      "cell_type": "code",
      "metadata": {
        "colab": {
          "base_uri": "https://localhost:8080/"
        },
        "id": "WHyEYX3oviMC",
        "outputId": "aa53c4de-8ea2-4091-a330-6d72409fb433"
      },
      "source": [
        "df_4h['High'].mode()"
      ],
      "execution_count": 102,
      "outputs": [
        {
          "output_type": "execute_result",
          "data": {
            "text/plain": [
              "0    1.5954\n",
              "dtype: float64"
            ]
          },
          "metadata": {},
          "execution_count": 102
        }
      ]
    },
    {
      "cell_type": "code",
      "metadata": {
        "id": "nYZie3dTviYp"
      },
      "source": [
        ""
      ],
      "execution_count": null,
      "outputs": []
    },
    {
      "cell_type": "code",
      "metadata": {
        "id": "PqJN_82iviez"
      },
      "source": [
        ""
      ],
      "execution_count": null,
      "outputs": []
    },
    {
      "cell_type": "code",
      "metadata": {
        "id": "_X_e0Kgtvihj"
      },
      "source": [
        ""
      ],
      "execution_count": null,
      "outputs": []
    }
  ]
}